{
 "cells": [
  {
   "cell_type": "markdown",
   "metadata": {},
   "source": [
    "# Practical 1: Getting Started with Python (Part 2)"
   ]
  },
  {
   "cell_type": "markdown",
   "metadata": {},
   "source": [
    "## 6 - Collections\n",
    "In python there are four fundamental types of sequences to hold collections of items.\n",
    "* List\n",
    "* Tuple\n",
    "* Set\n",
    "* Dictionary\n",
    "\n",
    "This practical will cover List, Tuple and Set. We will introduce Dictionary in other practical."
   ]
  },
  {
   "cell_type": "markdown",
   "metadata": {},
   "source": [
    "## 6.1 - List\n",
    "Lists are collections of *heterogeneous objects*, which can be of any type, including other lists. Lists are **mutable**, i.e. you can modify the members of the list"
   ]
  },
  {
   "cell_type": "markdown",
   "metadata": {},
   "source": [
    "### 6.1.1 - Creating a list"
   ]
  },
  {
   "cell_type": "code",
   "execution_count": 7,
   "metadata": {},
   "outputs": [],
   "source": [
    "numbers = [1, 2, 3, 4, 5, 6, 7]\n",
    "student = ['Kevin', 18, 3.85, ['BACS2003', 'BACS2063']]"
   ]
  },
  {
   "cell_type": "markdown",
   "metadata": {},
   "source": [
    "### 6.1.2 - Modifying a list"
   ]
  },
  {
   "cell_type": "code",
   "execution_count": 8,
   "metadata": {},
   "outputs": [
    {
     "name": "stdout",
     "output_type": "stream",
     "text": [
      "[1, 2, 99, 4, 5, 6, 7, 'Kevin', 18, 3.85, ['BACS2003', 'BACS2063']]\n",
      "[1, 2, 99, 4, 5, 6, 7, 100]\n",
      "[1, 'C', 2, 99, 4, 5, 6, 7, 100]\n",
      "['C', 2, 99, 4, 5, 6, 7, 100]\n",
      "['C', 99, 4, 5, 6, 7, 100]\n",
      "['C', 4, 5, 6, 7, 100]\n"
     ]
    }
   ],
   "source": [
    "numbers[2] = 99  \t# modify item with index 2\n",
    "print(numbers + student) # to combine 2 lists\n",
    "numbers.append(100) \t# append a new value to last\n",
    "print(numbers)\n",
    "numbers.insert(1, 'C')\t# insert a new value to index 1\n",
    "print(numbers)\n",
    "numbers.remove(1) \t# remove the item with value 1\n",
    "print(numbers)\n",
    "del numbers[1]  # delete the item with index 1\n",
    "print(numbers)\n",
    "numbers.pop(1)\t# remove the item with index 1\n",
    "print(numbers)\n"
   ]
  },
  {
   "cell_type": "markdown",
   "metadata": {},
   "source": [
    "### 6.1.3  - List Comprehension\n",
    "Python supports **list comprehension**, which allows you to do some modification on all elements within a list, or filter out some elements from a list. Example is as follows:"
   ]
  },
  {
   "cell_type": "code",
   "execution_count": 10,
   "metadata": {},
   "outputs": [
    {
     "name": "stdout",
     "output_type": "stream",
     "text": [
      "mark_list =  [0.3, 0.4, 0.5, 0.6, 0.7]\n",
      "new_list =  [70.0, 60.0]\n"
     ]
    }
   ],
   "source": [
    "mark_list = sorted([0.4, 0.5, 0.7, 0.6, 0.3]) # sort the list ascendingly\n",
    "print(\"mark_list = \", mark_list)\n",
    "new_marks = [ m * 100 for m in mark_list if m > 0.5] # list comprehension\n",
    "new_marks.sort(reverse = True) # sort the list in descending order\n",
    "print(\"new_list = \",  new_marks)\n"
   ]
  },
  {
   "cell_type": "markdown",
   "metadata": {},
   "source": [
    "## 6.2 - Tuple\n",
    "Tuples are similar to normal lists but they are **immutable**, i.e. you cannot add, delete or make assignments to items."
   ]
  },
  {
   "cell_type": "markdown",
   "metadata": {},
   "source": [
    "### 6.2.1 - Creating a tuple"
   ]
  },
  {
   "cell_type": "code",
   "execution_count": 11,
   "metadata": {},
   "outputs": [
    {
     "name": "stdout",
     "output_type": "stream",
     "text": [
      "3.12345\n"
     ]
    }
   ],
   "source": [
    "coordinate = (3.12345, 101.23423)\n",
    "print(coordinate[0])\n"
   ]
  },
  {
   "cell_type": "markdown",
   "metadata": {},
   "source": [
    "### 6.2.2 - Immutable tuple\n",
    "Now try to change the coordinate data above and run the command. Observe the output."
   ]
  },
  {
   "cell_type": "code",
   "execution_count": 12,
   "metadata": {},
   "outputs": [
    {
     "ename": "TypeError",
     "evalue": "'tuple' object does not support item assignment",
     "output_type": "error",
     "traceback": [
      "\u001b[1;31m---------------------------------------------------------------------------\u001b[0m",
      "\u001b[1;31mTypeError\u001b[0m                                 Traceback (most recent call last)",
      "\u001b[1;32m<ipython-input-12-815352e83e42>\u001b[0m in \u001b[0;36m<module>\u001b[1;34m\u001b[0m\n\u001b[1;32m----> 1\u001b[1;33m \u001b[0mcoordinate\u001b[0m\u001b[1;33m[\u001b[0m\u001b[1;36m0\u001b[0m\u001b[1;33m]\u001b[0m \u001b[1;33m=\u001b[0m \u001b[1;36m0\u001b[0m\u001b[1;33m\u001b[0m\u001b[1;33m\u001b[0m\u001b[0m\n\u001b[0m",
      "\u001b[1;31mTypeError\u001b[0m: 'tuple' object does not support item assignment"
     ]
    }
   ],
   "source": [
    "coordinate[0] = 0"
   ]
  },
  {
   "cell_type": "markdown",
   "metadata": {},
   "source": [
    "### 6.2.3 - Unpack a tuple\n",
    "See the example below to unpack the coordinate into 2 elements, x and y"
   ]
  },
  {
   "cell_type": "code",
   "execution_count": 13,
   "metadata": {},
   "outputs": [
    {
     "name": "stdout",
     "output_type": "stream",
     "text": [
      "x =  3.12345 y =  101.23423\n"
     ]
    }
   ],
   "source": [
    "x, y = coordinate\n",
    "print('x = ', x, 'y = ', y)"
   ]
  },
  {
   "cell_type": "markdown",
   "metadata": {},
   "source": [
    "## 6.3 - Set\n",
    "Sets are a collection of items, with no duplication and no order between elements. \n",
    "\n",
    "* Sets are unordered.\n",
    "* Set elements are unique. Duplicate elements are not allowed.\n",
    "* A set itself may be modified, but the elements contained in the set must be of an immutable type."
   ]
  },
  {
   "cell_type": "markdown",
   "metadata": {},
   "source": [
    "### 6.3.1 - Creating sets"
   ]
  },
  {
   "cell_type": "code",
   "execution_count": 14,
   "metadata": {},
   "outputs": [
    {
     "name": "stdout",
     "output_type": "stream",
     "text": [
      "{1, 2, 3, 4, 5, 6}\n",
      "{3.12345, 101.23423}\n"
     ]
    }
   ],
   "source": [
    "e = set([])\t# this is an empty set\n",
    "s = set([3, 4, 4, 5, 6, 6, 6, 2, 1]) # creating a set from a list\n",
    "t = set(coordinate)\t# creating a set from a tuple\n",
    "print(s)\n",
    "print(t)"
   ]
  },
  {
   "cell_type": "markdown",
   "metadata": {},
   "source": [
    "### 6.3.2 - Set is unordered\n",
    "you cannot access set member through index, as set is an unordered collection. Try to run the command below and observe the output."
   ]
  },
  {
   "cell_type": "code",
   "execution_count": 15,
   "metadata": {},
   "outputs": [
    {
     "ename": "TypeError",
     "evalue": "'set' object is not subscriptable",
     "output_type": "error",
     "traceback": [
      "\u001b[1;31m---------------------------------------------------------------------------\u001b[0m",
      "\u001b[1;31mTypeError\u001b[0m                                 Traceback (most recent call last)",
      "\u001b[1;32m<ipython-input-15-5605e14cbe49>\u001b[0m in \u001b[0;36m<module>\u001b[1;34m\u001b[0m\n\u001b[1;32m----> 1\u001b[1;33m \u001b[0mprint\u001b[0m\u001b[1;33m(\u001b[0m\u001b[0ms\u001b[0m\u001b[1;33m[\u001b[0m\u001b[1;36m0\u001b[0m\u001b[1;33m]\u001b[0m\u001b[1;33m)\u001b[0m\u001b[1;33m\u001b[0m\u001b[1;33m\u001b[0m\u001b[0m\n\u001b[0m",
      "\u001b[1;31mTypeError\u001b[0m: 'set' object is not subscriptable"
     ]
    }
   ],
   "source": [
    "print(s[0])"
   ]
  },
  {
   "cell_type": "markdown",
   "metadata": {},
   "source": [
    "### 6.3.3 -  Add a new element to a set\n",
    "Use **add()** to add a new element to a set, e.g"
   ]
  },
  {
   "cell_type": "code",
   "execution_count": 18,
   "metadata": {},
   "outputs": [
    {
     "name": "stdout",
     "output_type": "stream",
     "text": [
      "s= {0, 1, 2, 3, 4, 5, 6}\n"
     ]
    }
   ],
   "source": [
    "s.add(0)\n",
    "print('s=',s)"
   ]
  },
  {
   "attachments": {
    "image.png": {
     "image/png": "[encoded data removed]"
    }
   },
   "cell_type": "markdown",
   "metadata": {},
   "source": [
    "### 6.3.4. - Set Manipulation\n",
    "you can check the union, intersection, difference of 2 sets, etc., as follows:\n",
    "![image.png](attachment:image.png)"
   ]
  },
  {
   "cell_type": "code",
   "execution_count": 19,
   "metadata": {
    "scrolled": true
   },
   "outputs": [
    {
     "name": "stdout",
     "output_type": "stream",
     "text": [
      "dsa | web =  {'Mac', 'Eric', 'Jake', 'Jill', 'John', 'Tom'}\n",
      "dsa | web =  {'Mac', 'Eric', 'Jake', 'Jill', 'John', 'Tom'}\n",
      "dsa & web =  {'Jake', 'Tom'}\n",
      "dsa & web =  {'Jake', 'Tom'}\n",
      "dsa & ai =  set()\n",
      "dsa & ai =  set()\n",
      "dsa - web =  {'John', 'Eric'}\n",
      "dsa - web =  {'John', 'Eric'}\n",
      "dsa ^ web =  {'Mac', 'Eric', 'Jill', 'John'}\n",
      "dsa ^ web =  {'Mac', 'Eric', 'Jill', 'John'}\n",
      "No one registered for both of DSA and AI\n"
     ]
    }
   ],
   "source": [
    "dsa = set([\"Tom\", \"Jake\", \"John\", \"Eric\"])\n",
    "web = set([\"Tom\", \"Jake\", \"Jill\", \"Mac\"])\n",
    "ai = set([\"William\", \"Andy\"])\n",
    "\n",
    "#Union of two sets: Find all people have registered either dsa or web\n",
    "print('dsa | web = ', dsa.union(web))\n",
    "print('dsa | web = ', dsa | web)\n",
    "\n",
    "#Intersection of two sets: People have registered for both dsa and web\n",
    "print('dsa & web = ', dsa.intersection(web))\n",
    "print('dsa & web = ', dsa & web)\n",
    "\n",
    "#Intersection of two sets: People have registered for both dsa and ai\n",
    "print('dsa & ai = ', dsa.intersection(ai))\n",
    "print('dsa & ai = ', dsa & ai)\n",
    "\n",
    "#Difference of two sets: People have registered for dsa but not for web\n",
    "print('dsa - web = ', dsa.difference(web))\n",
    "print('dsa - web = ', dsa - web)\n",
    "\n",
    "#Symmetric Difference between two sets: People that attend only dsa or web\n",
    "print('dsa ^ web = ', dsa.symmetric_difference(web))\n",
    "print('dsa ^ web = ', dsa ^ web)\n",
    "\n",
    "#Check for disjoint or superset\n",
    "if dsa.isdisjoint(ai):\n",
    "    print(\"No one registered for both of DSA and AI\")\n",
    "if ai.issubset(dsa): \n",
    "    print(\"All AI students already registered for DSA\")\n",
    "if dsa.issuperset(ai): \n",
    "    print(\"All AI students already registered for DSA\")\n"
   ]
  },
  {
   "cell_type": "markdown",
   "metadata": {},
   "source": [
    "*Now try to practice Python programming by completing the exercise given in the Practical 1 Manual*"
   ]
  }
 ],
 "metadata": {
  "kernelspec": {
   "display_name": "Python 3",
   "language": "python",
   "name": "python3"
  },
  "language_info": {
   "codemirror_mode": {
    "name": "ipython",
    "version": 3
   },
   "file_extension": ".py",
   "mimetype": "text/x-python",
   "name": "python",
   "nbconvert_exporter": "python",
   "pygments_lexer": "ipython3",
   "version": "3.9.5"
  }
 },
 "nbformat": 4,
 "nbformat_minor": 4
}
