{
 "cells": [
  {
   "cell_type": "markdown",
   "metadata": {},
   "source": [
    "# Practical 1: Getting Started with Python (Part 1)"
   ]
  },
  {
   "cell_type": "markdown",
   "metadata": {},
   "source": [
    "## 1 - Number, Variable and Operator"
   ]
  },
  {
   "cell_type": "markdown",
   "metadata": {},
   "source": [
    "### 1.1 - Numbers and Boolean"
   ]
  },
  {
   "cell_type": "code",
   "execution_count": 1,
   "metadata": {},
   "outputs": [
    {
     "name": "stdout",
     "output_type": "stream",
     "text": [
      "a = 42346 b = 341.3234 c = 10 d = 128.0 e = 128.0 f = True\n"
     ]
    }
   ],
   "source": [
    "#Integer \n",
    "a = 42343 + 3\n",
    " \n",
    "#Floating Point \n",
    "b = 343.3234 - 2 \n",
    " \n",
    "#Binary Number \n",
    "c = 0b101 * 0b10 \n",
    " \n",
    "#Hexadecimal Number \n",
    "d =  0x100 / 0x2\n",
    " \n",
    "#Octal Number \n",
    "e = 0o400 / 0o2 \n",
    " \n",
    "#Boolean \n",
    "f = True \n",
    "\n",
    "print ('a =', a, 'b =', b, 'c =', c, 'd =', d, 'e =', e, 'f =', f )\n",
    " \n"
   ]
  },
  {
   "cell_type": "code",
   "execution_count": 2,
   "metadata": {},
   "outputs": [
    {
     "data": {
      "text/plain": [
       "bool"
      ]
     },
     "execution_count": 2,
     "metadata": {},
     "output_type": "execute_result"
    }
   ],
   "source": [
    "type(f)"
   ]
  },
  {
   "cell_type": "code",
   "execution_count": 4,
   "metadata": {},
   "outputs": [
    {
     "name": "stdout",
     "output_type": "stream",
     "text": [
      "1010\n"
     ]
    }
   ],
   "source": [
    "#Binary Number \n",
    "d = 0b101 * 0b10\n",
    "print(format(d,'0b'))"
   ]
  },
  {
   "cell_type": "code",
   "execution_count": 5,
   "metadata": {},
   "outputs": [
    {
     "name": "stdout",
     "output_type": "stream",
     "text": [
      "80\n"
     ]
    }
   ],
   "source": [
    "#Hexadecimal Number \n",
    "e =  0x100 / 0x2\n",
    "type(e)\n",
    "print(format(int(e), '0x'))"
   ]
  },
  {
   "cell_type": "code",
   "execution_count": 6,
   "metadata": {},
   "outputs": [
    {
     "name": "stdout",
     "output_type": "stream",
     "text": [
      "200\n"
     ]
    }
   ],
   "source": [
    "#Octal Number \n",
    "f = 0o400 / 0o2\n",
    "print(format(int(f), '0o'))"
   ]
  },
  {
   "cell_type": "markdown",
   "metadata": {},
   "source": [
    "### 1.2 - Floor Division "
   ]
  },
  {
   "cell_type": "code",
   "execution_count": 7,
   "metadata": {},
   "outputs": [
    {
     "name": "stdout",
     "output_type": "stream",
     "text": [
      "2\n",
      "2.0\n"
     ]
    }
   ],
   "source": [
    "#Floor Division \n",
    "print (5 // 2) \n",
    "print (5 // 2.0) "
   ]
  },
  {
   "cell_type": "markdown",
   "metadata": {},
   "source": [
    "### 1.3 - Modulus (finding the remainder)"
   ]
  },
  {
   "cell_type": "code",
   "execution_count": 8,
   "metadata": {},
   "outputs": [
    {
     "name": "stdout",
     "output_type": "stream",
     "text": [
      "1\n"
     ]
    }
   ],
   "source": [
    "#Modulus Operator \n",
    "r = 7 % 2\n",
    "print(r)"
   ]
  },
  {
   "cell_type": "markdown",
   "metadata": {},
   "source": [
    "### 1.4 - Power Operator "
   ]
  },
  {
   "cell_type": "code",
   "execution_count": 9,
   "metadata": {},
   "outputs": [
    {
     "name": "stdout",
     "output_type": "stream",
     "text": [
      "16\n"
     ]
    }
   ],
   "source": [
    "#Power Operator \n",
    "print (2 ** 4) "
   ]
  },
  {
   "cell_type": "markdown",
   "metadata": {},
   "source": [
    "### 1.5 - String Literal"
   ]
  },
  {
   "cell_type": "code",
   "execution_count": 10,
   "metadata": {},
   "outputs": [
    {
     "name": "stdout",
     "output_type": "stream",
     "text": [
      "This is Python Programming\n",
      "\n",
      "It is Pythonic!\n",
      "Anaconda 3\n"
     ]
    }
   ],
   "source": [
    "#String Literal \n",
    "print (\"This is Python Programming\\n\")\n",
    "print ('It is Pythonic!')\n",
    "x = 3\n",
    "print(\"Anaconda\", x)"
   ]
  },
  {
   "cell_type": "markdown",
   "metadata": {},
   "source": [
    "### 1.6 Checking the Data Type"
   ]
  },
  {
   "cell_type": "code",
   "execution_count": 11,
   "metadata": {},
   "outputs": [
    {
     "data": {
      "text/plain": [
       "float"
      ]
     },
     "execution_count": 11,
     "metadata": {},
     "output_type": "execute_result"
    }
   ],
   "source": [
    "a = 5 / 2\n",
    "type(a)"
   ]
  },
  {
   "cell_type": "markdown",
   "metadata": {},
   "source": [
    "## 2 - Random Numbers"
   ]
  },
  {
   "cell_type": "markdown",
   "metadata": {},
   "source": [
    "*It is important to import Random library before using the random function*"
   ]
  },
  {
   "cell_type": "code",
   "execution_count": 14,
   "metadata": {},
   "outputs": [
    {
     "name": "stdout",
     "output_type": "stream",
     "text": [
      "[4, 3, 7, 2, 1, 5, 6]\n"
     ]
    }
   ],
   "source": [
    "import random # important to import Random library before using the random function \n",
    " \n",
    "r1 = random.random()        # Random float x, 0.0 <= x < 1.0 \n",
    " \n",
    "r2 = random.uniform(1, 10)  # Random float x, 1.0 <= x < 10.0 \n",
    " \n",
    "r3 = random.randint(1, 10)  # Integer from 1 to 10, endpoints included \n",
    " \n",
    "r4 = random.randrange(0, 101, 2)  # Even integer from 0 to 100 \n",
    " \n",
    "r5 = random.choice('abcdefghij')  # Choose a random element \n",
    " \n",
    "elements = random.sample([1, 2, 3, 4, 5],  3)  # Choose 3 elements \n",
    " \n",
    "items = [1, 2, 3, 4, 5, 6, 7] # Reshuffle items in a list random.shuffle(items) print items\n",
    "r6 = random.shuffle(items)\n",
    "print(items)"
   ]
  },
  {
   "cell_type": "markdown",
   "metadata": {},
   "source": [
    "## 3 - Decision Making"
   ]
  },
  {
   "cell_type": "markdown",
   "metadata": {},
   "source": [
    "*The following table shows the logical comparison operators.*"
   ]
  },
  {
   "cell_type": "markdown",
   "metadata": {},
   "source": [
    "Operator | Meaning\n",
    "---------| -------------------------\n",
    "==       | Equals to\n",
    "!=\t     | Not equals to\n",
    "\\>       | Greater than\n",
    "\\>=      | Greater than or equals to\n",
    "<        | Less than\n",
    "<=       | Less than or equals to\n"
   ]
  },
  {
   "cell_type": "markdown",
   "metadata": {},
   "source": [
    "### 3.1 - Decision Making – If-else statement"
   ]
  },
  {
   "cell_type": "markdown",
   "metadata": {},
   "source": [
    "*Remark: There is no **switch** statement in Python*"
   ]
  },
  {
   "cell_type": "markdown",
   "metadata": {},
   "source": [
    "## if else statement\n",
    "if condition:\n",
    "    statement\n",
    "elif condition:\n",
    "    statement\n",
    "else:\n",
    "    statement\n",
    "    \n",
    "if condition:\n",
    "    statement\n",
    "\n",
    "## Inline if else statement\n",
    "True if condition else False\n",
    "m = 1\n",
    "print(\"this is true\" if m==1 else \"this is false\")"
   ]
  },
  {
   "cell_type": "code",
   "execution_count": 15,
   "metadata": {},
   "outputs": [
    {
     "name": "stdout",
     "output_type": "stream",
     "text": [
      "Your BMI is  19.531249999999996\n",
      "Congratulation. Your weight is normal\n"
     ]
    }
   ],
   "source": [
    "weight = 50.0 #try your own weight in kilogram \n",
    "height = 1.60 #try your own height in meter \n",
    "bmi = weight / (height) ** 2  #the body mass index formula normal = False \n",
    " \n",
    "print ('Your BMI is ', bmi)\n",
    " \n",
    "if bmi < 18.5:  #don’t forget the ‘:’     \n",
    "    print ('You are underweight') \n",
    "elif 18.5 <= bmi <= 25:     \n",
    "    print ('Congratulation. Your weight is normal')     \n",
    "    normal = True \n",
    "elif 25 <= bmi <= 30:     \n",
    "    print ('Time to keep fit')\n",
    "elif 30 <= bmi <= 35:     \n",
    "    print ('You should reduce your weight')\n",
    "else:     \n",
    "    print ('Time to seek help from a professional fitness expert')\n",
    "\n",
    "if normal != True: \n",
    "     print ('TAR Slimming Centre could help')"
   ]
  },
  {
   "cell_type": "markdown",
   "metadata": {},
   "source": [
    "### 3.2 - The Inline If statement"
   ]
  },
  {
   "cell_type": "code",
   "execution_count": 16,
   "metadata": {},
   "outputs": [
    {
     "name": "stdout",
     "output_type": "stream",
     "text": [
      "Please enter your name: yee mei\n",
      "Hello, it is pleasure to meet you,  yee mei\n",
      "Please enter a number: 8\n",
      "It is even\n",
      "enter pets separated by commas (no space): tom,jerry\n",
      "['tom', 'jerry']\n"
     ]
    }
   ],
   "source": [
    "name = input(\"Please enter your name: \") # to get the input as a string  \n",
    "print (\"Hello, it is pleasure to meet you, \", name )\n",
    " \n",
    "num = int(input(\"Please enter a number: \") )\n",
    "print (\"It is even\" if num % 2 == 0 else \"It is odd\")\n",
    " \n",
    "pets = input(\"enter pets separated by commas (no space): \")  \n",
    "petList = pets.split(',') \n",
    "print(petList)"
   ]
  },
  {
   "cell_type": "markdown",
   "metadata": {},
   "source": [
    "## 4 - Loop"
   ]
  },
  {
   "cell_type": "markdown",
   "metadata": {},
   "source": [
    "### 4.1 - Iterate with Range\n",
    "The **for** statement in Python differs a bit from what you may be used to in C. Instead of using a counter to determine the iteration step and halting condition, we use **range(start, stop before, step)** to iterate over a sequence of numbers. Example:"
   ]
  },
  {
   "cell_type": "markdown",
   "metadata": {},
   "source": [
    "### java example\n",
    "for(int i=0; i<10; i++)\n",
    "{   print(i);\n",
    "}\n",
    "\n",
    "### python\n",
    "for i in range(10):\n",
    "    print(i)"
   ]
  },
  {
   "cell_type": "code",
   "execution_count": 17,
   "metadata": {},
   "outputs": [
    {
     "name": "stdout",
     "output_type": "stream",
     "text": [
      "i : 0\n",
      "i : 1\n",
      "i : 2\n",
      "i : 3\n",
      "i : 4\n",
      "i : 5\n",
      "i : 6\n",
      "i : 7\n",
      "i : 8\n",
      "i : 9\n",
      "-----------\n",
      "i : -5\n",
      "i : -4\n",
      "i : -3\n",
      "i : -2\n",
      "i : -1\n",
      "i : 0\n",
      "i : 1\n",
      "i : 2\n",
      "i : 3\n",
      "i : 4\n",
      "-----------\n",
      "i : 10\n",
      "i : 12\n",
      "i : 14\n",
      "i : 16\n",
      "i : 18\n"
     ]
    }
   ],
   "source": [
    "for i in range(10):     \n",
    "    print ('i :', i )\n",
    "print (\"-----------\" )\n",
    " \n",
    "for i in range(-5, 5):     \n",
    "    print ('i :', i )\n",
    "print (\"-----------\" )\n",
    " \n",
    "for i in range(10, 20, 2):     \n",
    "    print ('i :', i )"
   ]
  },
  {
   "cell_type": "markdown",
   "metadata": {},
   "source": [
    "### 4.2 - Iterate with Sequence Index\n",
    "You can access each item by index offset into the sequence itself. Example:"
   ]
  },
  {
   "cell_type": "markdown",
   "metadata": {},
   "source": [
    "num = [\"albert\", \"ben\", \"charlie\"] \n",
    "\n",
    "for i in range(len(num)):\n",
    "    print(num[i])"
   ]
  },
  {
   "cell_type": "code",
   "execution_count": 18,
   "metadata": {},
   "outputs": [
    {
     "name": "stdout",
     "output_type": "stream",
     "text": [
      "Current item : 2\n",
      "Current item : 4\n",
      "Current item : 5\n",
      "Current item : 8\n"
     ]
    }
   ],
   "source": [
    "num = [2,4,5,8] \n",
    "for index in range(len(num)):    \n",
    "    print ('Current item :', num[index] )"
   ]
  },
  {
   "cell_type": "markdown",
   "metadata": {},
   "source": [
    "### 4.3 - Iterating list of strings\n",
    "You can use for statement to iterate items in a list of strings as follows:"
   ]
  },
  {
   "cell_type": "code",
   "execution_count": 19,
   "metadata": {},
   "outputs": [
    {
     "name": "stdout",
     "output_type": "stream",
     "text": [
      "Mon\n",
      "Tue\n",
      "Wed\n",
      "Thu\n",
      "Fri\n"
     ]
    }
   ],
   "source": [
    "for day in [\"Mon\", \"Tue\", \"Wed\", \"Thu\", \"Fri\"]:     \n",
    "    print (day) "
   ]
  },
  {
   "cell_type": "markdown",
   "metadata": {},
   "source": [
    "### 4.4. Conditional Loop\n",
    "Use **while()** loop to execute a block of code until a given condition is met"
   ]
  },
  {
   "cell_type": "markdown",
   "metadata": {},
   "source": [
    "### java\n",
    "while(b<n){\n",
    "    print(b)\n",
    "}\n",
    "\n",
    "### python\n",
    "while b<n:\n",
    "    print(b)"
   ]
  },
  {
   "cell_type": "code",
   "execution_count": 20,
   "metadata": {},
   "outputs": [
    {
     "name": "stdout",
     "output_type": "stream",
     "text": [
      "Enter the upper boundry of your fibonucci sequence: 5\n",
      "0\n",
      "1\n",
      "1\n",
      "2\n",
      "3\n"
     ]
    }
   ],
   "source": [
    "n = int(input(\"Enter the upper boundry of your fibonucci sequence: \"))\n",
    "a = 0\n",
    "b = 1\n",
    "print(a)\n",
    "while b < n:\n",
    "    print(b)\n",
    "    t = b\n",
    "    b = a + b\n",
    "    a = t"
   ]
  },
  {
   "cell_type": "markdown",
   "metadata": {},
   "source": [
    "### 4.5 - Break, Pass and Continue statement\n",
    "Use **break** to quit a loop, use **pass** to return True"
   ]
  },
  {
   "cell_type": "code",
   "execution_count": 21,
   "metadata": {},
   "outputs": [
    {
     "name": "stdout",
     "output_type": "stream",
     "text": [
      "Guess a number between 1 to 10 >>  8\n",
      "You got it!\n"
     ]
    }
   ],
   "source": [
    "import random\n",
    "answer = random.randint(1, 10) \n",
    "while True:  #infinite loop until the break statement is met\n",
    "    x = int(input('Guess a number between 1 to 10 >>  '))\n",
    "    if x == answer:\n",
    "        break   # terminate the loop\n",
    "    if x < 1:\n",
    "        pass    # pass statement does nothing, but continue to next statement\n",
    "    if x > answer:\n",
    "        print(\"choose a smaller number\")\n",
    "        continue    # continue the next iteration\n",
    "    elif x < answer:\n",
    "        print(\"choose a bigger number\")\n",
    "\n",
    "print(\"You got it!\")\n"
   ]
  },
  {
   "cell_type": "markdown",
   "metadata": {},
   "source": [
    "## 5 - Function"
   ]
  },
  {
   "cell_type": "markdown",
   "metadata": {},
   "source": [
    "### 5.1 - Function Definition\n",
    "A function in Python is declared using the **def** keyword"
   ]
  },
  {
   "cell_type": "code",
   "execution_count": null,
   "metadata": {},
   "outputs": [],
   "source": [
    "def area(x,y):\n",
    "    return x * y\n",
    "\n",
    "a = int(input('Enter a length >> '))\n",
    "b = int(input('Enter a width >> '))\n",
    "print('The area is ', area(a,b))\n"
   ]
  },
  {
   "cell_type": "markdown",
   "metadata": {},
   "source": [
    "### 5.2.Function with default parameter(s)\n",
    "You can specify *default values* to the function argument(s)"
   ]
  },
  {
   "cell_type": "markdown",
   "metadata": {},
   "source": [
    "### Java example\n",
    "double setPrice(double price, double discount){\n",
    "    double finalPrice = price - price * discount;\n",
    "    return finalPrice;\n",
    "}\n",
    "\n",
    "double p = setPrice(100, 0.10);\n",
    "print(p);\n",
    "\n",
    "### Python example\n",
    "def setPrice(price, discount):\n",
    "    finalPrice = price - price * discount\n",
    "    return finalPrice\n",
    "\n",
    "p = setPrice(100, 0.1)\n",
    "print(p)"
   ]
  },
  {
   "cell_type": "code",
   "execution_count": 8,
   "metadata": {},
   "outputs": [
    {
     "name": "stdout",
     "output_type": "stream",
     "text": [
      "314.0\n",
      "314.2857142857143\n",
      "260.0\n"
     ]
    }
   ],
   "source": [
    "def circle(radius, pi = 3.14): # a default value is set to pi\n",
    "    \"\"\"\n",
    "    Calculates circle area for the given radius\n",
    "    \"\"\"\n",
    "    area = pi * radius ** 2\n",
    "    return area\n",
    "\n",
    "print(circle(10))   # the 2nd argument is ignored, so the default value pi is used\n",
    "print(circle(10, 22/7)) # the 2nd argument default value is overwritten\n",
    "\n",
    "# the order does not matter if you call the argument by its keyword \n",
    "print(circle(pi = 2.6, radius = 10))\n"
   ]
  },
  {
   "cell_type": "markdown",
   "metadata": {},
   "source": [
    "We will continue Collections in the next practical"
   ]
  }
 ],
 "metadata": {
  "kernelspec": {
   "display_name": "Python 3",
   "language": "python",
   "name": "python3"
  },
  "language_info": {
   "codemirror_mode": {
    "name": "ipython",
    "version": 3
   },
   "file_extension": ".py",
   "mimetype": "text/x-python",
   "name": "python",
   "nbconvert_exporter": "python",
   "pygments_lexer": "ipython3",
   "version": "3.9.5"
  }
 },
 "nbformat": 4,
 "nbformat_minor": 4
}
