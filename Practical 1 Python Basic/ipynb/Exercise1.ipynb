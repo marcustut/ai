{
 "cells": [
  {
   "cell_type": "code",
   "execution_count": 1,
   "metadata": {},
   "outputs": [],
   "source": [
    "# Load the black formatter\n",
    "%load_ext blackcellmagic"
   ]
  },
  {
   "cell_type": "markdown",
   "id": "7f0c2d42",
   "metadata": {},
   "source": [
    "### Question 1"
   ]
  },
  {
   "cell_type": "code",
   "execution_count": 2,
   "id": "cb5178de",
   "metadata": {},
   "outputs": [],
   "source": [
    "import math\n",
    "\n",
    "# Calculate the volume of a cylinder using\n",
    "# the fomula V = πr²h\n",
    "def volume(r: float, h: float) -> float:\n",
    "    return math.pi * r ** 2 * h"
   ]
  },
  {
   "cell_type": "markdown",
   "id": "7a79bbf0",
   "metadata": {},
   "source": [
    "### Question 2 and Question 3"
   ]
  },
  {
   "cell_type": "code",
   "execution_count": 3,
   "id": "234a160c",
   "metadata": {},
   "outputs": [
    {
     "output_type": "stream",
     "name": "stdout",
     "text": [
      "556.6353286695818\n"
     ]
    }
   ],
   "source": [
    "import time\n",
    "import random\n",
    "\n",
    "# Calculate the distance between two coordinates\n",
    "def calculateDistance(first: tuple[int, int], second: tuple[int, int]) -> float:\n",
    "    return ((second[0] - first[0]) ** 2 + (second[1] - first[1]) ** 2 ) ** (1/2)\n",
    "\n",
    "def calculateMouseSpeed(coords: list[tuple[int, int]], duration: float) -> float:\n",
    "    start = time.time()\n",
    "    distance = 0.0\n",
    "    for i in range(len(coords)-1):\n",
    "        distance += calculateDistance(coords[i], coords[i+1])\n",
    "    duration += time.time() - start\n",
    "    return distance / duration\n",
    "\n",
    "def main():\n",
    "    start = time.time()\n",
    "    coordinatesList = []\n",
    "\n",
    "    for i in range(10):\n",
    "        coordinatesList.append((random.randint(1, 1200), random.randint(1, 800)))\n",
    "        time.sleep(1)\n",
    "\n",
    "    end = time.time()\n",
    "    \n",
    "    print(calculateMouseSpeed(coordinatesList, end - start))\n",
    "\n",
    "if __name__ == '__main__':\n",
    "    main()"
   ]
  },
  {
   "cell_type": "markdown",
   "id": "bb413ddf",
   "metadata": {},
   "source": [
    "### Question 4"
   ]
  },
  {
   "cell_type": "code",
   "execution_count": 4,
   "id": "b8a77858",
   "metadata": {},
   "outputs": [
    {
     "output_type": "stream",
     "name": "stdout",
     "text": [
      "{'purple', 'cyan', 'blue', 'orange', 'red', 'green'} are the available choices, please select 4 colours from the list\n",
      "\n",
      "Round 1\n",
      "---------\n",
      "White\n",
      "White\n",
      "White\n",
      "Black\n",
      "\n",
      "Congratulations\n",
      "\n",
      "Round 2\n",
      "---------\n",
      "White\n",
      "White\n",
      "White\n",
      "Black\n",
      "\n",
      "Congratulations\n"
     ]
    }
   ],
   "source": [
    "import random\n",
    "\n",
    "CODES = set(['green', 'cyan', 'red', 'purple', 'blue', 'orange'])\n",
    "\n",
    "def mastermind(guess: set) -> bool:\n",
    "    answer = random.sample(list(CODES), 4)\n",
    "    input = list(guess)\n",
    "    for i in range(len(input)):\n",
    "        if input[i] == answer[i]:\n",
    "            print(\"Black\")\n",
    "            return True\n",
    "        else:\n",
    "            print(\"White\")\n",
    "    return False\n",
    "\n",
    "print(\"{} are the available choices, please select 4 colours from the list\".format(CODES))\n",
    "\n",
    "for i in range(2):\n",
    "    x = set([input(\"Enter color {}: \".format(j+1)) for j in range(4)])\n",
    "\n",
    "    print(\"\\nRound {}\\n---------\".format(i+1))\n",
    "\n",
    "    if mastermind(x):\n",
    "        print(\"\\nCongratulations\")\n",
    "    else:\n",
    "        print(\"\\nYou lose\")"
   ]
  },
  {
   "source": [
    "### Question 5"
   ],
   "cell_type": "markdown",
   "metadata": {}
  },
  {
   "cell_type": "code",
   "execution_count": 5,
   "metadata": {},
   "outputs": [
    {
     "output_type": "stream",
     "name": "stdout",
     "text": [
      "name is  <class 'str'>\n",
      "age is  <class 'int'>\n",
      "height is  <class 'int'>\n",
      "cgpa is  <class 'float'>\n"
     ]
    }
   ],
   "source": [
    "# Ask for user input\n",
    "name = input(\"What is your name?\\n>\")\n",
    "print(\"name is \", type(name))\n",
    "\n",
    "age = int(input(\"How old are you?\\n>\"))\n",
    "print(\"age is \", type(age))\n",
    "\n",
    "height = int(input(\"How old are you?\\n>\"))\n",
    "print(\"height is \", type(height))\n",
    "\n",
    "cgpa = float(input(\"What is your CGPA?\\n>\"))\n",
    "print(\"cgpa is \", type(cgpa))"
   ]
  },
  {
   "source": [
    "### Question 6"
   ],
   "cell_type": "markdown",
   "metadata": {}
  },
  {
   "cell_type": "code",
   "execution_count": 6,
   "metadata": {},
   "outputs": [
    {
     "output_type": "stream",
     "name": "stdout",
     "text": [
      "colourless\n"
     ]
    }
   ],
   "source": [
    "s = \"color\"\n",
    "slice_front = slice(4)\n",
    "slice_back = slice(-1, -2, -1)\n",
    "print(s[slice_front] + 'u' + s[slice_back] + \"less\")"
   ]
  },
  {
   "source": [
    "### Question 7"
   ],
   "cell_type": "markdown",
   "metadata": {}
  },
  {
   "cell_type": "code",
   "execution_count": null,
   "metadata": {},
   "outputs": [],
   "source": []
  }
 ],
 "metadata": {
  "kernelspec": {
   "name": "python3",
   "display_name": "Python 3.9.5 64-bit ('3.9.5': pyenv)"
  },
  "language_info": {
   "codemirror_mode": {
    "name": "ipython",
    "version": 3
   },
   "file_extension": ".py",
   "mimetype": "text/x-python",
   "name": "python",
   "nbconvert_exporter": "python",
   "pygments_lexer": "ipython3",
   "version": "3.9.5"
  },
  "interpreter": {
   "hash": "0864c132dbdc0eab2e29fde7654c4c1d1096b51f7818f6cef60219d4518db679"
  }
 },
 "nbformat": 4,
 "nbformat_minor": 5
}