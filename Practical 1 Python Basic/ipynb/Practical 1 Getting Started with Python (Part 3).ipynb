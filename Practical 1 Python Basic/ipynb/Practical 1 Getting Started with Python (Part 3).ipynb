{
 "cells": [
  {
   "cell_type": "markdown",
   "metadata": {},
   "source": [
    "# Practical 1(iii): Strings and Text Processing"
   ]
  },
  {
   "cell_type": "markdown",
   "metadata": {},
   "source": [
    "Pre-requisite: Before you start this practical, please ensure you have the nltk_data downloaded into the AppData\\Roaming folder. For this practical, we need the following packages from the nltk_data\n",
    " \n",
    "•\tAveraged Perceptron\n",
    "•\tPunkt\n",
    "•\tStopwords\n",
    "•\tTagsets\n",
    "•\tUniversal_tagset\n",
    "•\tWordnet\n",
    "•\tWords\n",
    " \n",
    "\n",
    "To download the above packages, you need nltk 3.2.1 and nltk_data\n",
    "1.\tDownload and install nltk\n",
    "2.\tType the following command to the Python Editor\n",
    "3.\tSelect the above packages from the pop-up window from the All Packages tab\n"
   ]
  },
  {
   "cell_type": "code",
   "execution_count": null,
   "metadata": {},
   "outputs": [],
   "source": [
    "nltk.download()"
   ]
  },
  {
   "cell_type": "markdown",
   "metadata": {},
   "source": [
    "# Section A: Strings\n",
    "1.\tPrint (a string: The following command prints text as strings, with '' or \"\""
   ]
  },
  {
   "cell_type": "code",
   "execution_count": 2,
   "metadata": {},
   "outputs": [
    {
     "name": "stdout",
     "output_type": "stream",
     "text": [
      "hello \"world\"\n",
      "hello 'strings'\n"
     ]
    }
   ],
   "source": [
    "print ('hello \"world\"')\n",
    "print (\"hello 'strings'\")"
   ]
  },
  {
   "cell_type": "markdown",
   "metadata": {},
   "source": [
    "<b>Bug hunt</b>: The following commands consist of bugs. Run them and note the error message. Solve the bugs."
   ]
  },
  {
   "cell_type": "code",
   "execution_count": 1,
   "metadata": {},
   "outputs": [
    {
     "name": "stdout",
     "output_type": "stream",
     "text": [
      "hello 'world'\n",
      "hello \"strings\"\n"
     ]
    }
   ],
   "source": [
    "print ('hello \\'world\\'')\n",
    "print (\"hello \\\"strings\\\"\")"
   ]
  },
  {
   "cell_type": "markdown",
   "metadata": {},
   "source": [
    "2.\tSeveral lines of strings: Sometimes we may want to put several lines of text in a string"
   ]
  },
  {
   "cell_type": "code",
   "execution_count": 3,
   "metadata": {},
   "outputs": [
    {
     "name": "stdout",
     "output_type": "stream",
     "text": [
      "two linesof text\n",
      "severallines oftext\n"
     ]
    }
   ],
   "source": [
    "print (\"two lines\"\\\n",
    "    'of text')\t\t#first alternative is to use ‘\\’\n",
    "\n",
    "text = (\"several\" \t#second alternative is to use ‘()’\n",
    "        \"lines of\"\n",
    "        \"text\")\n",
    "print (text)"
   ]
  },
  {
   "cell_type": "markdown",
   "metadata": {},
   "source": [
    "3.\t<b>WYSIWYG</b>: If you want to make sure the output looks exactly what you placed with new line, use triple quotation marks (\"\"\" or ''')"
   ]
  },
  {
   "cell_type": "code",
   "execution_count": 4,
   "metadata": {},
   "outputs": [
    {
     "name": "stdout",
     "output_type": "stream",
     "text": [
      "several\n",
      "    lines of\n",
      "        text\n"
     ]
    }
   ],
   "source": [
    "print (\"\"\"several\n",
    "    lines of\n",
    "        text\"\"\")\t"
   ]
  },
  {
   "cell_type": "markdown",
   "metadata": {},
   "source": [
    "4.\t<b>Combine strings</b>: Use ‘,’ or '+' to combine two or more strings.  If you want to duplicate a string, you can use ‘*.\n",
    "\n",
    "Remark: Please note that other arithmetic operators like ‘/’ and ‘-’ do not apply to strings"
   ]
  },
  {
   "cell_type": "code",
   "execution_count": null,
   "metadata": {},
   "outputs": [],
   "source": [
    "p = \"python\"\n",
    "print (p, p)\n",
    "print (p + p + p)\n",
    "print (p * 10)\n"
   ]
  },
  {
   "cell_type": "markdown",
   "metadata": {},
   "source": [
    "5.\t<b>Try it yourself</b>: Try this and observe the output"
   ]
  },
  {
   "cell_type": "code",
   "execution_count": null,
   "metadata": {},
   "outputs": [],
   "source": [
    "a = [1, 2, 3, 4, 5, 6, 7, 6, 5, 4, 3, 2, 1]\n",
    "b = [' ' * 2 * (7 - i) + 'look' * i for i in a]\n",
    "for line in b:\n",
    "    print(line)\n"
   ]
  },
  {
   "cell_type": "markdown",
   "metadata": {},
   "source": [
    "6.\t<b>String Formatting Operator</b>: You can string format a variable as you did in C language."
   ]
  },
  {
   "cell_type": "code",
   "execution_count": null,
   "metadata": {},
   "outputs": [],
   "source": [
    "print (\"My name is %s and weight is %d kg!\" % ('Zara', 21) )"
   ]
  },
  {
   "cell_type": "markdown",
   "metadata": {},
   "source": [
    "7.\t<b>String as a character array</b>: You can access individual character of a string by specifying the index"
   ]
  },
  {
   "cell_type": "code",
   "execution_count": null,
   "metadata": {},
   "outputs": [],
   "source": [
    "fox = \"The quick brown fox jumps over the lazy dog\"\n",
    "print (fox[0])  #the first character\n",
    "print (fox[4])  #the fifth character\n",
    "print (fox[-1]) #the quick way to access the last character\n"
   ]
  },
  {
   "cell_type": "markdown",
   "metadata": {},
   "source": [
    "8.\t<b>Substrings (string slicing)</b>: The slice [m,n] contains the characters from index m through n-1"
   ]
  },
  {
   "cell_type": "code",
   "execution_count": null,
   "metadata": {},
   "outputs": [],
   "source": [
    "dog = \"the lazy dog\"\n",
    "print (dog[:3])  #from beginning until index 3-1\n",
    "print (dog[9:]) #from 9 until the end\n",
    "print (dog[4:8]) #from index 4 until index 8-1\n"
   ]
  },
  {
   "attachments": {
    "image.png": {
     "image/png": "[encoded data removed]"
    }
   },
   "cell_type": "markdown",
   "metadata": {},
   "source": [
    "The dog string is shown along with its positive and negative indexes\n",
    "\n",
    "![image.png](attachment:image.png)\n",
    "\n",
    "Therefore you can also slice the string with negative indexes, such as\n"
   ]
  },
  {
   "cell_type": "code",
   "execution_count": null,
   "metadata": {},
   "outputs": [],
   "source": [
    "print (dog[-12:3])\n",
    "print (dog[-11:-4])"
   ]
  },
  {
   "cell_type": "markdown",
   "metadata": {},
   "source": [
    "<b>Bug hunt</b>: The following commands consist of bugs. Solve the bugs."
   ]
  },
  {
   "cell_type": "code",
   "execution_count": null,
   "metadata": {},
   "outputs": [],
   "source": [
    "print (dog[-11:-10])  #this should produce ‘he’\n",
    "print (dog[-4:4])  #this should produce ‘lazy’"
   ]
  },
  {
   "cell_type": "markdown",
   "metadata": {},
   "source": [
    "9.\t<b>Finding a substring using in operator</b>: The in operator allows you to check whether a character or substring is in the given string"
   ]
  },
  {
   "cell_type": "code",
   "execution_count": null,
   "metadata": {},
   "outputs": [],
   "source": [
    "fox = \"The quick brown fox jumps over the lazy dog\"\n",
    "item = input(\"What to search? \") # getting input from user\n",
    "if item in fox:\n",
    "    print ('found', item)\n",
    "else:\n",
    "    print (item, 'not found')\n"
   ]
  },
  {
   "cell_type": "markdown",
   "metadata": {},
   "source": [
    "10.\t<b>Finding a substring using find() method</b>: The find() methods allows you to find the position of a substring within a string"
   ]
  },
  {
   "cell_type": "code",
   "execution_count": null,
   "metadata": {},
   "outputs": [],
   "source": [
    "fox = \"The quick brown fox jumps over the lazy dog\"\n",
    "item = input(\"What to search? \") # getting input from user\n",
    "print (fox.find(item)) # -1 is returned if the item is not found"
   ]
  },
  {
   "cell_type": "markdown",
   "metadata": {},
   "source": [
    "There are some other useful String Methods for your own exploration.\n",
    "\n",
    "Method |\tFunctionality\n",
    "-------|-----------------\n",
    "s.count(t,start,end) |\tCounts how many times string t occurs in string or in a substring of string if starting index start and ending index end are given.\n",
    "s.find(t) |\tindex of first instance of string t inside s (-1 if not found)\n",
    "s.rfind(t) |\tindex of last instance of string t inside s (-1 if not found)\n",
    "s.index(t) |\tlike s.find(t) except it raises ValueError if not found\n",
    "s.rindex(t) |\tlike s.rfind(t) except it raises ValueError if not found\n",
    "s.isalnum() |\tReturns true if string s has at least 1 character and all characters are alphanumeric and false otherwise.\n",
    "s.isalpha() |\tReturns true if string s has at least 1 character and all characters are alphabetic and false otherwise.\n",
    "s.isdigit() |\tReturns true if string s contains only digits and false otherwise.\n",
    "s.join(text) |\tcombine the words of the text into a string using s as the glue\n",
    "s.split(t) |\tsplit s into a list wherever a t is found (whitespace by default)\n",
    "s.splitlines() |\tsplit s into a list of strings, one per line\n",
    "s.lower() |\ta lowercased version of the string s\n",
    "s.upper() |\tan uppercased version of the string s\n",
    "s.title() |\ta title-cased version of the string s\n",
    "s.strip() |\ta copy of s without leading or trailing whitespace\n",
    "s.replace(t, u) |\treplace instances of t with u inside s\n"
   ]
  },
  {
   "cell_type": "markdown",
   "metadata": {},
   "source": [
    "## Section B: Text Processing\n",
    "1.\t<b>Reading text</b>"
   ]
  },
  {
   "cell_type": "markdown",
   "metadata": {},
   "source": [
    "1.1. <b>Reading text file</b>: You can read text (1) from local drive, (2) from Web with a URL\n",
    "\n",
    "a.\tTo read from local drive:"
   ]
  },
  {
   "cell_type": "code",
   "execution_count": 5,
   "metadata": {},
   "outputs": [
    {
     "name": "stdout",
     "output_type": "stream",
     "text": [
      "﻿The Project Gutenberg EBook of Crime and Punishment, by Fyodor Dostoevsky\n",
      "\n",
      "This eBook is for the use\n"
     ]
    }
   ],
   "source": [
    "f = open('/Users/marcus/Projects/ai/Practical 1 Python Basic/ipynb/pg2554.txt') #you shall provide the full directory accordingly\n",
    "\n",
    "rawLocal = f.read()\n",
    "\n",
    "print (rawLocal[:101])\n"
   ]
  },
  {
   "cell_type": "markdown",
   "metadata": {},
   "source": [
    "1.2.\tTo read from Web (text file):"
   ]
  },
  {
   "cell_type": "code",
   "execution_count": 6,
   "metadata": {},
   "outputs": [
    {
     "name": "stdout",
     "output_type": "stream",
     "text": [
      "b'\\xef\\xbb\\xbfThe Project Gutenberg EBook of Crime and Punishment, by Fyodor Dostoevsky\\r\\n\\r\\nThis eBook is for the use of anyone anywhere at no cost and with\\r\\nalmost no restrictions whatsoever.  You may copy it, give it away or\\r\\nre-use it under the terms of the Project Gutenberg License included\\r\\nwith this eBook'\n"
     ]
    }
   ],
   "source": [
    "import urllib.request\n",
    "\n",
    "url = \"http://www.gutenberg.org/files/2554/2554-0.txt\"\n",
    "with urllib.request.urlopen(url) as f:\n",
    "    print(f.read(300))\n"
   ]
  },
  {
   "cell_type": "markdown",
   "metadata": {},
   "source": [
    "1.3.\tTo read from Web (HTML) and deal with the content"
   ]
  },
  {
   "cell_type": "code",
   "execution_count": 7,
   "metadata": {},
   "outputs": [
    {
     "name": "stdout",
     "output_type": "stream",
     "text": [
      "b'<!doctype html>\\n<!--[if lt IE 7]>   <html class=\"no-js ie6 lt-ie7 lt-ie8 lt-ie9\">   <![endif]-->\\n<!--[if IE 7]>      <html class=\"no-js ie7 lt-ie8 lt-ie9\">          <![endif]-->\\n<!--[if IE 8]>      <html class=\"no-js ie8 lt-ie9\">                 <![endif]-->\\n<!--[if gt IE 8]><!--><html class=\"no-js\"'\n"
     ]
    }
   ],
   "source": [
    "import urllib.request\n",
    "with urllib.request.urlopen('http://www.python.org/') as f:\n",
    "    rawHTML = f.read()\n",
    "print(rawHTML[:300])"
   ]
  },
  {
   "cell_type": "markdown",
   "metadata": {},
   "source": [
    "<b>Preprocessing HTML text</b>\n",
    "\n",
    "To get text out of HTML we will use a Python library called BeautifulSoup, available from http://www.crummy.com/software/BeautifulSoup/. \n",
    "\n",
    "Type the following commands on the Python Editor"
   ]
  },
  {
   "cell_type": "code",
   "execution_count": 8,
   "metadata": {},
   "outputs": [
    {
     "ename": "ModuleNotFoundError",
     "evalue": "No module named 'bs4'",
     "output_type": "error",
     "traceback": [
      "\u001b[0;31m---------------------------------------------------------------------------\u001b[0m",
      "\u001b[0;31mModuleNotFoundError\u001b[0m                       Traceback (most recent call last)",
      "\u001b[0;32m<ipython-input-8-f33cf0cb8fd3>\u001b[0m in \u001b[0;36m<module>\u001b[0;34m\u001b[0m\n\u001b[0;32m----> 1\u001b[0;31m \u001b[0;32mfrom\u001b[0m \u001b[0mbs4\u001b[0m \u001b[0;32mimport\u001b[0m \u001b[0mBeautifulSoup\u001b[0m\u001b[0;34m\u001b[0m\u001b[0;34m\u001b[0m\u001b[0m\n\u001b[0m",
      "\u001b[0;31mModuleNotFoundError\u001b[0m: No module named 'bs4'"
     ]
    }
   ],
   "source": [
    "from bs4 import BeautifulSoup"
   ]
  },
  {
   "cell_type": "code",
   "execution_count": null,
   "metadata": {},
   "outputs": [],
   "source": [
    "htmlText = BeautifulSoup(rawHTML).get_text()\n",
    "print (htmlText [:300])"
   ]
  },
  {
   "cell_type": "markdown",
   "metadata": {},
   "source": [
    "Next Practical - REGEX"
   ]
  }
 ],
 "metadata": {
  "kernelspec": {
   "display_name": "Python 3",
   "language": "python",
   "name": "python3"
  },
  "language_info": {
   "codemirror_mode": {
    "name": "ipython",
    "version": 3
   },
   "file_extension": ".py",
   "mimetype": "text/x-python",
   "name": "python",
   "nbconvert_exporter": "python",
   "pygments_lexer": "ipython3",
   "version": "3.9.5"
  }
 },
 "nbformat": 4,
 "nbformat_minor": 4
}
