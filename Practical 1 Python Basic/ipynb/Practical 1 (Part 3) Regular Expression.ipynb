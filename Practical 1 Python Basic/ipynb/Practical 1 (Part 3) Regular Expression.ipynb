{
 "cells": [
  {
   "cell_type": "markdown",
   "metadata": {},
   "source": [
    "# Practical 1 Regular Expression\n",
    "A RegEx, or Regular Expression, is a sequence of characters that forms a search pattern.\n",
    "\n",
    "\n",
    "RegEx can be used to check if a string contains the specified search pattern."
   ]
  },
  {
   "cell_type": "markdown",
   "metadata": {},
   "source": [
    "## RegEx Module"
   ]
  },
  {
   "cell_type": "markdown",
   "metadata": {},
   "source": [
    "Python has a built-in package called re, which can be used to work with Regular Expressions."
   ]
  },
  {
   "cell_type": "code",
   "execution_count": null,
   "metadata": {},
   "outputs": [],
   "source": [
    "import re"
   ]
  },
  {
   "cell_type": "markdown",
   "metadata": {},
   "source": [
    "## RegEx in Python\n",
    "When you have imported the re module, you can start using regular expressions for:\n",
    "<br  /><b>findall: </b>\tReturns a list containing all matches\n",
    "<br  /><b>search: </b>\tReturns a Match object if there is a match anywhere in the string\n",
    "<br  /><b>split:</b>\tReturns a list where the string has been split at each match\n",
    "<br  /><b>sub: </b>\tReplaces one or many matches with a string"
   ]
  },
  {
   "cell_type": "markdown",
   "metadata": {},
   "source": [
    "## search() Function\n",
    "A Regular Expression (RegEx) is a sequence of characters that defines a search pattern:"
   ]
  },
  {
   "cell_type": "code",
   "execution_count": null,
   "metadata": {},
   "outputs": [],
   "source": [
    "import re\n",
    "\n",
    "txt = \"abysdfs\"\n",
    "x = re.search(\"^a.*s$\", txt)\n",
    "x"
   ]
  },
  {
   "cell_type": "markdown",
   "metadata": {},
   "source": [
    "### Example:\n",
    "Search the string to see if it starts with \"The\" and ends with \"Setapak\":"
   ]
  },
  {
   "cell_type": "code",
   "execution_count": null,
   "metadata": {},
   "outputs": [],
   "source": [
    "txt = \"The rain in Setapak\"\n",
    "txt2 = \"The rain in Kuala Lumpur\"\n",
    "x = re.search(\"^The.*Setapak$\", txt2)\n",
    "print(x)"
   ]
  },
  {
   "cell_type": "code",
   "execution_count": null,
   "metadata": {},
   "outputs": [],
   "source": [
    "txt = \"The rain in Setapak\"\n",
    "txt2 = \"The rain in Kuala Lumpur\"\n",
    "x = re.search(\"^The.*Setapak$\", txt2)\n",
    "\n",
    "if x:\n",
    "  print(\"Search successful.\")\n",
    "else:\n",
    "  print(\"Search unsuccessful.\")\t"
   ]
  },
  {
   "cell_type": "markdown",
   "metadata": {},
   "source": [
    "## Different between Match and Search"
   ]
  },
  {
   "cell_type": "code",
   "execution_count": null,
   "metadata": {},
   "outputs": [],
   "source": [
    "txt = \"The rain in Setapak\"\n",
    "txt2 = \"OMG, The rain in Kuala Lumpur\"\n",
    "x = re.search(\"^The.*Setapak$\", txt) #find something anywhere in the string and return a match object.\n",
    "y = re.match(\"^The.*Setapak$\", txt2) #find something at the beginning of the string and return a match object.\n",
    "\n",
    "if y:\n",
    "  print(\"Search successful.\") \n",
    "else:\n",
    "  print(\"Sorry, the string is not found. \")\t#Make it user friendly, do not scare them away (How?)"
   ]
  },
  {
   "cell_type": "markdown",
   "metadata": {},
   "source": [
    "## findall() Function\n",
    "Returns a list containing all matches"
   ]
  },
  {
   "cell_type": "code",
   "execution_count": null,
   "metadata": {},
   "outputs": [],
   "source": [
    "import re\n",
    "\n",
    "txt = \"The rain in Sungai Kapal, Johor\"\n",
    "x = re.findall(\"ai\", txt)\n",
    "print(x)\n",
    "print(len(x))"
   ]
  },
  {
   "cell_type": "markdown",
   "metadata": {},
   "source": [
    "## split() Function\n",
    "Returns a list where the string has been split at each match"
   ]
  },
  {
   "cell_type": "code",
   "execution_count": null,
   "metadata": {},
   "outputs": [],
   "source": [
    "import re\n",
    "\n",
    "txt = \"The rain in Sungai Kapal\"\n",
    "x = re.split(\"\\s\", txt)\n",
    "print(x)"
   ]
  },
  {
   "cell_type": "code",
   "execution_count": null,
   "metadata": {},
   "outputs": [],
   "source": [
    "txt = \"FuJiang#TangHua#WenJie#EeMin\"\n",
    "\n",
    "x = txt.split(\"#\")\n",
    "\n",
    "print(x)\n",
    "\n",
    "print(len(x))\n",
    "#How many person? #len(x)\n",
    "print('There are',len(x), 'students here.')"
   ]
  },
  {
   "cell_type": "code",
   "execution_count": 1,
   "metadata": {},
   "outputs": [
    {
     "name": "stdout",
     "output_type": "stream",
     "text": [
      "You entered 4 words just now.\n"
     ]
    }
   ],
   "source": [
    "import re\n",
    "import easygui #pip install easygui\n",
    "title = \"Words Calculator\"\n",
    "\n",
    "txt = easygui.enterbox(\"Please input your sentence here...\", title)\n",
    "\n",
    "x = re.split(\"\\s\", txt)\n",
    "print('You entered',len(x), 'words just now.')"
   ]
  },
  {
   "cell_type": "markdown",
   "metadata": {},
   "source": [
    "## sub() Function\n",
    "Replaces one or many matches with a string"
   ]
  },
  {
   "cell_type": "code",
   "execution_count": 3,
   "metadata": {},
   "outputs": [
    {
     "name": "stdout",
     "output_type": "stream",
     "text": [
      "The*rain*in*Sungai*Kapal\n"
     ]
    }
   ],
   "source": [
    "import re\n",
    "\n",
    "txt = \"The rain in Sungai Kapal\"\n",
    "#x = re.sub(\"\\s\", \"9\", txt)\n",
    "x = re.sub(\"\\s\", \"*\", txt)\n",
    "print(x)"
   ]
  },
  {
   "cell_type": "code",
   "execution_count": 4,
   "metadata": {},
   "outputs": [
    {
     "name": "stdout",
     "output_type": "stream",
     "text": [
      "i love ***\n"
     ]
    }
   ],
   "source": [
    "import re\n",
    "\n",
    "txt = \"i love apple\"\n",
    "x = re.sub(\"apple\", \"***\", txt)\n",
    "print(x)"
   ]
  },
  {
   "cell_type": "code",
   "execution_count": 5,
   "metadata": {},
   "outputs": [
    {
     "name": "stdout",
     "output_type": "stream",
     "text": [
      "jolinTsai@***.com\n"
     ]
    }
   ],
   "source": [
    "import re\n",
    "\n",
    "email = \"jolinTsai@gmail.com\"\n",
    "x = re.sub(\"gmail\", \"***\", email)\n",
    "print(x)"
   ]
  }
 ],
 "metadata": {
  "kernelspec": {
   "display_name": "Python 3",
   "language": "python",
   "name": "python3"
  },
  "language_info": {
   "codemirror_mode": {
    "name": "ipython",
    "version": 3
   },
   "file_extension": ".py",
   "mimetype": "text/x-python",
   "name": "python",
   "nbconvert_exporter": "python",
   "pygments_lexer": "ipython3",
   "version": "3.7.6"
  }
 },
 "nbformat": 4,
 "nbformat_minor": 4
}
