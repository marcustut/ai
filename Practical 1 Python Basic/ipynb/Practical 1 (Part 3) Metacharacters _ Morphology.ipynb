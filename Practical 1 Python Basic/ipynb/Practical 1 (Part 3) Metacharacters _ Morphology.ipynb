{
 "cells": [
  {
   "cell_type": "markdown",
   "metadata": {},
   "source": [
    "# Practical 2 Metacharacters\n",
    "A <b>Metacharacters</b> are characters with a special meaning. \n",
    "\n",
    "[ ] . ^ $ * + ? {} () \\ |"
   ]
  },
  {
   "cell_type": "markdown",
   "metadata": {},
   "source": [
    "### <b>[ ] Square brackets</b>\n",
    "Square brackets specifies a set of characters you wish to match.\n",
    "\n",
    "Searching Pattern [abc]:<br  />\n",
    "a         > 1 match <br  />\n",
    "bc        > 2 matches <br  />\n",
    "Hey Jude  > No match <br  />\n",
    "abc de ca > 5 matches <br  />"
   ]
  },
  {
   "cell_type": "code",
   "execution_count": 1,
   "metadata": {},
   "outputs": [
    {
     "name": "stdout",
     "output_type": "stream",
     "text": [
      "You found 5 match(es).\n"
     ]
    }
   ],
   "source": [
    "import re\n",
    "\n",
    "txt = \"I love Natural Language Processing\"\n",
    "x = re.findall(\"[abc]\", txt)\n",
    "\n",
    "print('You found',len(x), 'match(es).')"
   ]
  },
  {
   "cell_type": "code",
   "execution_count": 2,
   "metadata": {},
   "outputs": [
    {
     "name": "stdout",
     "output_type": "stream",
     "text": [
      "You found 3 match(es).\n"
     ]
    }
   ],
   "source": [
    "import re\n",
    "\n",
    "txt = \"I love abc\"\n",
    "x = re.findall(\"[a-c]\", txt) #[a-e] = [abcde]\n",
    "\n",
    "print('You found',len(x), 'match(es).')"
   ]
  },
  {
   "cell_type": "code",
   "execution_count": 7,
   "metadata": {},
   "outputs": [
    {
     "name": "stdout",
     "output_type": "stream",
     "text": [
      "You found 4 match(es).\n"
     ]
    }
   ],
   "source": [
    "import re\n",
    "\n",
    "txt = \"You know the song ABCDabcd?\"\n",
    "x = re.findall(\"[A-D]\", txt) #[A-D] = [ABCD] NOT [abcd]\n",
    "\n",
    "print('You found',len(x), 'match(es).')"
   ]
  },
  {
   "cell_type": "code",
   "execution_count": 9,
   "metadata": {},
   "outputs": [
    {
     "name": "stdout",
     "output_type": "stream",
     "text": [
      "You found 1 match(es).\n"
     ]
    }
   ],
   "source": [
    "import re\n",
    "\n",
    "txt = \"You know the song 1234567?\"\n",
    "x = re.findall(\"[1-3]\", txt) # [1-3] = [123]\n",
    "y = re.findall(\"123\", txt)   # \"123\" != [123]\n",
    "\n",
    "#print('You found',len(x), 'match(es).')\n",
    "print('You found',len(y), 'match(es).')"
   ]
  },
  {
   "cell_type": "code",
   "execution_count": 11,
   "metadata": {},
   "outputs": [
    {
     "name": "stdout",
     "output_type": "stream",
     "text": [
      "You found 4 match(es).\n"
     ]
    }
   ],
   "source": [
    "import re\n",
    "\n",
    "txt = \"You know the song 1234567?\"\n",
    "x = re.findall(\"[1-3]\", txt)    # [1-3] = [123]\n",
    "y = re.findall(\"[1-37]\", txt)   # [1-3] = [1237]\n",
    "\n",
    "#print('You found',len(x), 'match(es).')\n",
    "print('You found',len(y), 'match(es).')"
   ]
  },
  {
   "cell_type": "markdown",
   "metadata": {},
   "source": [
    "### <b>. Period</b>\n",
    "Any character (except newline character)"
   ]
  },
  {
   "cell_type": "code",
   "execution_count": 13,
   "metadata": {},
   "outputs": [
    {
     "name": "stdout",
     "output_type": "stream",
     "text": [
      "18 match(es) found.\n"
     ]
    }
   ],
   "source": [
    "import re\n",
    "\n",
    "#Website address counter\n",
    "txt = \"www.guanyingma.com\"\n",
    "x = re.findall(\".\", txt) #any single character except newline '\\n'\n",
    "len(txt)\n",
    "\n",
    "print(len(txt), 'match(es) found.')"
   ]
  },
  {
   "cell_type": "markdown",
   "metadata": {},
   "source": [
    "### ^ Caret<b></b>\n",
    "Starts with"
   ]
  },
  {
   "cell_type": "code",
   "execution_count": 16,
   "metadata": {},
   "outputs": [
    {
     "name": "stdout",
     "output_type": "stream",
     "text": [
      "0 match(es) found.\n"
     ]
    }
   ],
   "source": [
    "import re\n",
    "\n",
    "txt = \"bac\" #ab, abc, bac, \n",
    "x = re.findall(\"^a\", txt) # caret '^' = starting with\n",
    "print(len(x), 'match(es) found.')"
   ]
  },
  {
   "cell_type": "markdown",
   "metadata": {},
   "source": [
    "### <b>{ } Curly Bracket</b> \n",
    "Exactly the specified number of occurrences"
   ]
  },
  {
   "cell_type": "code",
   "execution_count": 17,
   "metadata": {},
   "outputs": [
    {
     "name": "stdout",
     "output_type": "stream",
     "text": [
      "['all']\n",
      "Yes, there is at least one match!\n"
     ]
    }
   ],
   "source": [
    "import re\n",
    "\n",
    "txt = \"The rain in Malaysia falls mainly in the plain!\"\n",
    "\n",
    "#Check if the string contains \"a\" followed by exactly two \"l\" characters:\n",
    "\n",
    "x = re.findall(\"al{2}\", txt)\n",
    "\n",
    "print(x)\n",
    "\n",
    "\n",
    "if x:\n",
    "  print(\"Yes, there is at least one match!\")\n",
    "else:\n",
    "  print(\"No match\")\n"
   ]
  },
  {
   "cell_type": "markdown",
   "metadata": {},
   "source": [
    "### <b>‘|’</b> \n",
    "either or"
   ]
  },
  {
   "cell_type": "code",
   "execution_count": 18,
   "metadata": {},
   "outputs": [
    {
     "name": "stdout",
     "output_type": "stream",
     "text": [
      "['falls']\n",
      "Yes, there is at least one match!\n"
     ]
    }
   ],
   "source": [
    "import re\n",
    "\n",
    "txt = \"The rain in Malaysia falls mainly in the plain!\"\n",
    "\n",
    "#Check if the string contains either \"falls\" or \"stays\":\n",
    "\n",
    "x = re.findall(\"falls|stays\", txt)\n",
    "\n",
    "print(x)\n",
    "\n",
    "if x:\n",
    "  print(\"Yes, there is at least one match!\")\n",
    "else:\n",
    "  print(\"No match\")\n"
   ]
  }
 ],
 "metadata": {
  "kernelspec": {
   "display_name": "Python 3",
   "language": "python",
   "name": "python3"
  },
  "language_info": {
   "codemirror_mode": {
    "name": "ipython",
    "version": 3
   },
   "file_extension": ".py",
   "mimetype": "text/x-python",
   "name": "python",
   "nbconvert_exporter": "python",
   "pygments_lexer": "ipython3",
   "version": "3.9.5"
  }
 },
 "nbformat": 4,
 "nbformat_minor": 4
}
